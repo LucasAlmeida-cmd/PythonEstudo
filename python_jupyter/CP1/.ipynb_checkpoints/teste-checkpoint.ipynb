{
 "cells": [
  {
   "cell_type": "code",
   "execution_count": 8,
   "id": "40d88410-1a17-4045-92d3-f1810d3fa24e",
   "metadata": {},
   "outputs": [],
   "source": [
    "rm= 557590"
   ]
  },
  {
   "cell_type": "code",
   "execution_count": 11,
   "id": "515e9cbe-6a3f-4a38-96c8-a19450590c37",
   "metadata": {},
   "outputs": [
    {
     "data": {
      "text/plain": [
       "str"
      ]
     },
     "execution_count": 11,
     "metadata": {},
     "output_type": "execute_result"
    }
   ],
   "source": [
    "type(rm)"
   ]
  },
  {
   "cell_type": "code",
   "execution_count": 12,
   "id": "90eb762a-c11d-43ec-b66d-f59255099ec6",
   "metadata": {},
   "outputs": [
    {
     "name": "stdout",
     "output_type": "stream",
     "text": [
      "0\n",
      "1\n",
      "2\n",
      "3\n",
      "4\n",
      "5\n"
     ]
    }
   ],
   "source": [
    "y = 0 \n",
    "\n",
    "for y in range(rm):\n",
    "    print(y)\n",
    "    y += 1"
   ]
  },
  {
   "cell_type": "code",
   "execution_count": null,
   "id": "8f415045-510c-441a-a41e-7f76625c77f9",
   "metadata": {},
   "outputs": [],
   "source": []
  }
 ],
 "metadata": {
  "kernelspec": {
   "display_name": "Python 3 (ipykernel)",
   "language": "python",
   "name": "python3"
  },
  "language_info": {
   "codemirror_mode": {
    "name": "ipython",
    "version": 3
   },
   "file_extension": ".py",
   "mimetype": "text/x-python",
   "name": "python",
   "nbconvert_exporter": "python",
   "pygments_lexer": "ipython3",
   "version": "3.9.13"
  }
 },
 "nbformat": 4,
 "nbformat_minor": 5
}
