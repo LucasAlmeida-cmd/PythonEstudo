{
 "cells": [
  {
   "cell_type": "code",
   "execution_count": 17,
   "id": "40d88410-1a17-4045-92d3-f1810d3fa24e",
   "metadata": {},
   "outputs": [],
   "source": [
    "rm= \"557590\""
   ]
  },
  {
   "cell_type": "code",
   "execution_count": 18,
   "id": "515e9cbe-6a3f-4a38-96c8-a19450590c37",
   "metadata": {},
   "outputs": [
    {
     "ename": "AttributeError",
     "evalue": "'str' object has no attribute 'pop'",
     "output_type": "error",
     "traceback": [
      "\u001b[1;31m---------------------------------------------------------------------------\u001b[0m",
      "\u001b[1;31mAttributeError\u001b[0m                            Traceback (most recent call last)",
      "Cell \u001b[1;32mIn[18], line 1\u001b[0m\n\u001b[1;32m----> 1\u001b[0m \u001b[43mrm\u001b[49m\u001b[38;5;241;43m.\u001b[39;49m\u001b[43mpop\u001b[49m()\n",
      "\u001b[1;31mAttributeError\u001b[0m: 'str' object has no attribute 'pop'"
     ]
    }
   ],
   "source": [
    "rm.pop()"
   ]
  },
  {
   "cell_type": "code",
   "execution_count": 13,
   "id": "90eb762a-c11d-43ec-b66d-f59255099ec6",
   "metadata": {},
   "outputs": [
    {
     "ename": "TypeError",
     "evalue": "'str' object cannot be interpreted as an integer",
     "output_type": "error",
     "traceback": [
      "\u001b[1;31m---------------------------------------------------------------------------\u001b[0m",
      "\u001b[1;31mTypeError\u001b[0m                                 Traceback (most recent call last)",
      "Cell \u001b[1;32mIn[13], line 3\u001b[0m\n\u001b[0;32m      1\u001b[0m y \u001b[38;5;241m=\u001b[39m \u001b[38;5;241m0\u001b[39m \n\u001b[1;32m----> 3\u001b[0m \u001b[38;5;28;01mfor\u001b[39;00m y \u001b[38;5;129;01min\u001b[39;00m \u001b[38;5;28;43mrange\u001b[39;49m\u001b[43m(\u001b[49m\u001b[43mrm\u001b[49m\u001b[43m)\u001b[49m:\n\u001b[0;32m      4\u001b[0m     \u001b[38;5;28mprint\u001b[39m(y)\n\u001b[0;32m      5\u001b[0m     y \u001b[38;5;241m+\u001b[39m\u001b[38;5;241m=\u001b[39m \u001b[38;5;241m1\u001b[39m\n",
      "\u001b[1;31mTypeError\u001b[0m: 'str' object cannot be interpreted as an integer"
     ]
    }
   ],
   "source": [
    "y = 0 \n",
    "\n",
    "for y in range(rm):\n",
    "    print(y)\n",
    "    y += 1"
   ]
  },
  {
   "cell_type": "code",
   "execution_count": 25,
   "id": "8f415045-510c-441a-a41e-7f76625c77f9",
   "metadata": {},
   "outputs": [
    {
     "name": "stdout",
     "output_type": "stream",
     "text": [
      "Elemento removido: 4\n",
      "Lista após o pop: [1, 2, 3, 5]\n",
      "Elemento removido: 3\n",
      "Lista após o pop: [1, 2, 5]\n"
     ]
    }
   ],
   "source": [
    "lista = [1, 2, 3, 4, 5]\n",
    "\n",
    "# Removendo e retornando o último elemento da lista\n",
    "elemento_removido = lista.pop(-2)\n",
    "print(\"Elemento removido:\", elemento_removido)  # Isso imprimirá \"Elemento removido: 5\"\n",
    "print(\"Lista após o pop:\", lista)  # Isso imprimirá \"Lista após o pop: [1, 2, 3, 4]\"\n",
    "\n",
    "# Removendo e retornando o elemento no índice 2 da lista\n",
    "elemento_removido = lista.pop(-2)\n",
    "print(\"Elemento removido:\", elemento_removido)  # Isso imprimirá \"Elemento removido: 3\"\n",
    "print(\"Lista após o pop:\", lista)  # Isso imprimirá \"Lista após o pop: [1, 2, 4]\"\n"
   ]
  }
 ],
 "metadata": {
  "kernelspec": {
   "display_name": "Python 3 (ipykernel)",
   "language": "python",
   "name": "python3"
  },
  "language_info": {
   "codemirror_mode": {
    "name": "ipython",
    "version": 3
   },
   "file_extension": ".py",
   "mimetype": "text/x-python",
   "name": "python",
   "nbconvert_exporter": "python",
   "pygments_lexer": "ipython3",
   "version": "3.9.13"
  }
 },
 "nbformat": 4,
 "nbformat_minor": 5
}
