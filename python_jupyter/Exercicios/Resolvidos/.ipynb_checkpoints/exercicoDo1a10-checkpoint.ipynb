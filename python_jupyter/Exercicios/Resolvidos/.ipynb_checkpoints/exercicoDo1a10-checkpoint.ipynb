{
 "cells": [
  {
   "cell_type": "code",
   "execution_count": 1,
   "id": "52b1c61c-4e52-4785-a776-aa0708faec4f",
   "metadata": {},
   "outputs": [
    {
     "name": "stdin",
     "output_type": "stream",
     "text": [
      "Digite uma nota entre 0 a 10:  11\n"
     ]
    },
    {
     "name": "stdout",
     "output_type": "stream",
     "text": [
      "Nota inválida. Por favor, digite novamente.\n"
     ]
    },
    {
     "name": "stdin",
     "output_type": "stream",
     "text": [
      "Digite uma nota entre 0 a 10:  12\n"
     ]
    },
    {
     "name": "stdout",
     "output_type": "stream",
     "text": [
      "Nota inválida. Por favor, digite novamente.\n"
     ]
    },
    {
     "name": "stdin",
     "output_type": "stream",
     "text": [
      "Digite uma nota entre 0 a 10:  -2\n"
     ]
    },
    {
     "name": "stdout",
     "output_type": "stream",
     "text": [
      "Nota inválida. Por favor, digite novamente.\n"
     ]
    },
    {
     "name": "stdin",
     "output_type": "stream",
     "text": [
      "Digite uma nota entre 0 a 10:  4\n"
     ]
    },
    {
     "name": "stdout",
     "output_type": "stream",
     "text": [
      "Valor válido!\n"
     ]
    }
   ],
   "source": [
    "#exercico 1 \n",
    "\n",
    "\n",
    "verificacao = True\n",
    "\n",
    "\n",
    "while (verificacao):\n",
    "\n",
    "    nota = float(input(\"Digite uma nota entre 0 a 10: \"))\n",
    "\n",
    "    if nota >= 0 and nota <= 10:\n",
    "        print(\"Valor válido!\")\n",
    "        verificacao = False\n",
    "    else:\n",
    "        print(\"Nota inválida. Por favor, digite novamente.\")"
   ]
  },
  {
   "cell_type": "code",
   "execution_count": 6,
   "id": "0341046b-69b8-403f-b1d9-7e25f565cedd",
   "metadata": {},
   "outputs": [
    {
     "name": "stdin",
     "output_type": "stream",
     "text": [
      "Digite seu nome:  Lucas\n",
      "Digite sua senha:  LUCAS\n"
     ]
    },
    {
     "name": "stdout",
     "output_type": "stream",
     "text": [
      "O nome e senha não podem ser iguais, por favor digite outra: \n"
     ]
    },
    {
     "name": "stdin",
     "output_type": "stream",
     "text": [
      "Digite sua senha:  lucas\n"
     ]
    },
    {
     "name": "stdout",
     "output_type": "stream",
     "text": [
      "O nome e senha não podem ser iguais, por favor digite outra: \n"
     ]
    },
    {
     "name": "stdin",
     "output_type": "stream",
     "text": [
      "Digite sua senha:  lucas2\n"
     ]
    },
    {
     "name": "stdout",
     "output_type": "stream",
     "text": [
      "Nome e senha disponivel.\n"
     ]
    }
   ],
   "source": [
    "#exercicio 2 \n",
    "\n",
    "verificacao = True\n",
    "nome_usuario = input(\"Digite seu nome: \").lower()\n",
    "while verificacao:\n",
    "\n",
    "    \n",
    "    senha_usuario = input(\"Digite sua senha: \").lower()\n",
    "\n",
    "    if nome_usuario == senha_usuario:\n",
    "        print(\"O nome e senha não podem ser iguais, por favor digite outra: \")\n",
    "    else:\n",
    "        print(\"Nome e senha disponivel.\")\n",
    "        verificacao = False"
   ]
  },
  {
   "cell_type": "code",
   "execution_count": null,
   "id": "4e9538d9-be3a-4e07-81cf-bbd75308d677",
   "metadata": {},
   "outputs": [
    {
     "name": "stdin",
     "output_type": "stream",
     "text": [
      "Digite o seu nome:  lu\n",
      "Digite a sua idade:  12\n",
      "Digite seu  salário:  12\n",
      "Digite se você é 'F' ou 'M':  f\n",
      "Digite se seu Estado Civil: ( 's', 'c', 'v', 'd') s\n"
     ]
    },
    {
     "name": "stdout",
     "output_type": "stream",
     "text": [
      "Nome inválido!\n",
      "Idade válida!\n",
      "\n",
      "Sexo válido!\n",
      "Estado Civil válido!\n"
     ]
    }
   ],
   "source": [
    "#exercicio 3\n",
    "\n",
    "validacao = True\n",
    "\n",
    "while validacao:\n",
    "\n",
    "    nome_usuario = input(\"Digite o seu nome: \")\n",
    "    idade_usuario = int(input(\"Digite a sua idade: \"))\n",
    "    salario_usuario = float(input(\"Digite seu  salário: \"))\n",
    "    sexo_usuario = input(\"Digite se você é 'F' ou 'M': \").lower()\n",
    "    estado_civil_usuario = input(\"Digite se seu Estado Civil: ( 's', 'c', 'v', 'd')\").lower()\n",
    "\n",
    "    if len(nome_usuario) < 3:\n",
    "        print(\"Nome inválido!\")\n",
    "    else:\n",
    "        print(\"Nome válido!\")\n",
    "        break\n",
    "\n",
    "    if idade_usuario > 0 and idade_usuario < 150:\n",
    "        print(\"Idade válida!\")\n",
    "    else:\n",
    "        print(\"Idade inválida!\")\n",
    "        break\n",
    "\n",
    "    if salario_usuario > 0:\n",
    "        print(\"salario valido\")\n",
    "    else:\n",
    "        print(\"Salario invalido\")\n",
    "        break\n",
    "\n",
    "    if sexo_usuario in [\"f\", \"m\"]:\n",
    "        print(\"Sexo válido!\")\n",
    "    else:\n",
    "        print(\"Sexo inválido!\")\n",
    "        break\n",
    "\n",
    "    if estado_civil_usuario in [\"s\", \"c\", \"v\", \"d\"]:\n",
    "        print(\"Estado Civil válido!\")\n",
    "    else:\n",
    "        print(\"Estado Civil inválido!\")\n",
    "        break"
   ]
  },
  {
   "cell_type": "code",
   "execution_count": null,
   "id": "3ae739fe-46cb-4645-87be-2d9f0f1091e2",
   "metadata": {},
   "outputs": [],
   "source": []
  },
  {
   "cell_type": "code",
   "execution_count": null,
   "id": "ed29f600-e81f-4307-834b-4a2fdaac92a7",
   "metadata": {},
   "outputs": [],
   "source": []
  },
  {
   "cell_type": "code",
   "execution_count": null,
   "id": "2932dd9a-209d-4085-a033-cfb7aae1922c",
   "metadata": {},
   "outputs": [],
   "source": []
  },
  {
   "cell_type": "code",
   "execution_count": null,
   "id": "8f205c4f-83e1-4063-a4e7-d6428a55197a",
   "metadata": {},
   "outputs": [],
   "source": []
  }
 ],
 "metadata": {
  "kernelspec": {
   "display_name": "Python 3 (ipykernel)",
   "language": "python",
   "name": "python3"
  },
  "language_info": {
   "codemirror_mode": {
    "name": "ipython",
    "version": 3
   },
   "file_extension": ".py",
   "mimetype": "text/x-python",
   "name": "python",
   "nbconvert_exporter": "python",
   "pygments_lexer": "ipython3",
   "version": "3.9.13"
  }
 },
 "nbformat": 4,
 "nbformat_minor": 5
}
