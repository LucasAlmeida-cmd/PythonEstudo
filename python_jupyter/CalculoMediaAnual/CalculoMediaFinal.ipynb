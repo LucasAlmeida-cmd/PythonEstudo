{
 "cells": [
  {
   "cell_type": "code",
   "execution_count": null,
   "id": "44f161d7",
   "metadata": {},
   "outputs": [],
   "source": []
  },
  {
   "cell_type": "code",
   "execution_count": 51,
   "id": "ca58774d",
   "metadata": {},
   "outputs": [],
   "source": [
    "def media_semestre(cp1, cp2, cp3, cp4, cp5, cp6, ch1, ch2, ch3, ch4, gp, gp1):\n",
    "    lista_cp = [cp1, cp2, cp3]\n",
    "    mini = min(lista_cp)\n",
    "    lista_cp.remove(mini)\n",
    "    \n",
    "    lista_cp2 = [cp4, cp5, cp6]\n",
    "    mini2 = min(lista_cp2)\n",
    "    lista_cp.remove(mini2)\n",
    "    \n",
    "    cp = lista_cp + lista_cp2\n",
    "    \n",
    "    s = cp [0] * 0.1 + cp [1] * 0.1 + cp [2] * 0.1 + cp [3] * 0.1 + ch1 * 0.1 + ch2 * 0.1 +  ch3 * 0.1 + ch4 * 0.1 + gp * 0.6 + gp1 * 0.6\n",
    "    \n",
    "    return s\n",
    "        \n",
    "    "
   ]
  },
  {
   "cell_type": "code",
   "execution_count": null,
   "id": "24861e07",
   "metadata": {},
   "outputs": [],
   "source": []
  },
  {
   "cell_type": "code",
   "execution_count": 59,
   "id": "fb6900d9",
   "metadata": {},
   "outputs": [
    {
     "name": "stdout",
     "output_type": "stream",
     "text": [
      "Por favor digite as notas do 1 semestre.\n",
      "Nota CP1:3\n",
      "Nota CP2:7\n",
      "Nota CP3:6\n",
      "Nota CH1:8\n",
      "Nota CH2:9\n",
      "Nota GP:8\n",
      "Por favor digite as notas do 2 semestre.\n",
      "Nota CP3:2\n",
      "Nota CP3:4\n",
      "Nota CP3:8\n",
      "Nota CH3:6\n",
      "Nota CH4:7\n",
      "Nota GP2:9\n"
     ]
    },
    {
     "ename": "ValueError",
     "evalue": "list.remove(x): x not in list",
     "output_type": "error",
     "traceback": [
      "\u001b[1;31m---------------------------------------------------------------------------\u001b[0m",
      "\u001b[1;31mValueError\u001b[0m                                Traceback (most recent call last)",
      "Cell \u001b[1;32mIn[59], line 25\u001b[0m\n\u001b[0;32m     21\u001b[0m ch4 \u001b[38;5;241m=\u001b[39m \u001b[38;5;28mfloat\u001b[39m(\u001b[38;5;28minput\u001b[39m(\u001b[38;5;124m\"\u001b[39m\u001b[38;5;124mNota CH4:\u001b[39m\u001b[38;5;124m\"\u001b[39m))\n\u001b[0;32m     23\u001b[0m gp1 \u001b[38;5;241m=\u001b[39m \u001b[38;5;28mfloat\u001b[39m(\u001b[38;5;28minput\u001b[39m(\u001b[38;5;124m\"\u001b[39m\u001b[38;5;124mNota GP2:\u001b[39m\u001b[38;5;124m\"\u001b[39m))\n\u001b[1;32m---> 25\u001b[0m \u001b[43mmedia_semestre\u001b[49m\u001b[43m(\u001b[49m\u001b[43mcp1\u001b[49m\u001b[43m,\u001b[49m\u001b[43m \u001b[49m\u001b[43mcp2\u001b[49m\u001b[43m,\u001b[49m\u001b[43m \u001b[49m\u001b[43mcp3\u001b[49m\u001b[43m,\u001b[49m\u001b[43m \u001b[49m\u001b[43mcp4\u001b[49m\u001b[43m,\u001b[49m\u001b[43m \u001b[49m\u001b[43mcp5\u001b[49m\u001b[43m,\u001b[49m\u001b[43m \u001b[49m\u001b[43mcp6\u001b[49m\u001b[43m,\u001b[49m\u001b[43m \u001b[49m\u001b[43mch1\u001b[49m\u001b[43m,\u001b[49m\u001b[43m \u001b[49m\u001b[43mch2\u001b[49m\u001b[43m,\u001b[49m\u001b[43m \u001b[49m\u001b[43mch3\u001b[49m\u001b[43m,\u001b[49m\u001b[43m \u001b[49m\u001b[43mch4\u001b[49m\u001b[43m,\u001b[49m\u001b[43m \u001b[49m\u001b[43mgp\u001b[49m\u001b[43m,\u001b[49m\u001b[43m \u001b[49m\u001b[43mgp1\u001b[49m\u001b[43m)\u001b[49m\n",
      "Cell \u001b[1;32mIn[51], line 8\u001b[0m, in \u001b[0;36mmedia_semestre\u001b[1;34m(cp1, cp2, cp3, cp4, cp5, cp6, ch1, ch2, ch3, ch4, gp, gp1)\u001b[0m\n\u001b[0;32m      6\u001b[0m lista_cp2 \u001b[38;5;241m=\u001b[39m [cp4, cp5, cp6]\n\u001b[0;32m      7\u001b[0m mini2 \u001b[38;5;241m=\u001b[39m \u001b[38;5;28mmin\u001b[39m(lista_cp2)\n\u001b[1;32m----> 8\u001b[0m \u001b[43mlista_cp\u001b[49m\u001b[38;5;241;43m.\u001b[39;49m\u001b[43mremove\u001b[49m\u001b[43m(\u001b[49m\u001b[43mmini2\u001b[49m\u001b[43m)\u001b[49m\n\u001b[0;32m     10\u001b[0m cp \u001b[38;5;241m=\u001b[39m lista_cp \u001b[38;5;241m+\u001b[39m lista_cp2\n\u001b[0;32m     12\u001b[0m s \u001b[38;5;241m=\u001b[39m cp [\u001b[38;5;241m0\u001b[39m] \u001b[38;5;241m*\u001b[39m \u001b[38;5;241m0.1\u001b[39m \u001b[38;5;241m+\u001b[39m cp [\u001b[38;5;241m1\u001b[39m] \u001b[38;5;241m*\u001b[39m \u001b[38;5;241m0.1\u001b[39m \u001b[38;5;241m+\u001b[39m cp [\u001b[38;5;241m2\u001b[39m] \u001b[38;5;241m*\u001b[39m \u001b[38;5;241m0.1\u001b[39m \u001b[38;5;241m+\u001b[39m cp [\u001b[38;5;241m3\u001b[39m] \u001b[38;5;241m*\u001b[39m \u001b[38;5;241m0.1\u001b[39m \u001b[38;5;241m+\u001b[39m ch1 \u001b[38;5;241m*\u001b[39m \u001b[38;5;241m0.1\u001b[39m \u001b[38;5;241m+\u001b[39m ch2 \u001b[38;5;241m*\u001b[39m \u001b[38;5;241m0.1\u001b[39m \u001b[38;5;241m+\u001b[39m  ch3 \u001b[38;5;241m*\u001b[39m \u001b[38;5;241m0.1\u001b[39m \u001b[38;5;241m+\u001b[39m ch4 \u001b[38;5;241m*\u001b[39m \u001b[38;5;241m0.1\u001b[39m \u001b[38;5;241m+\u001b[39m gp \u001b[38;5;241m*\u001b[39m \u001b[38;5;241m0.6\u001b[39m \u001b[38;5;241m+\u001b[39m gp1 \u001b[38;5;241m*\u001b[39m \u001b[38;5;241m0.6\u001b[39m\n",
      "\u001b[1;31mValueError\u001b[0m: list.remove(x): x not in list"
     ]
    }
   ],
   "source": [
    "#Primeiro Semestre\n",
    "print(\"Por favor digite as notas do 1 semestre.\")\n",
    "cp1 = float(input(\"Nota CP1:\"))\n",
    "cp2 = float(input(\"Nota CP2:\"))\n",
    "cp3 = float(input(\"Nota CP3:\"))\n",
    "\n",
    "ch1 = float(input(\"Nota CH1:\"))\n",
    "ch2 = float(input(\"Nota CH2:\"))\n",
    "\n",
    "gp = float(input(\"Nota GP:\"))\n",
    "\n",
    "\n",
    "\n",
    "#Segundo semestre\n",
    "print(\"Por favor digite as notas do 2 semestre.\")\n",
    "cp4 = float(input(\"Nota CP3:\"))\n",
    "cp5 = float(input(\"Nota CP3:\"))\n",
    "cp6 = float(input(\"Nota CP3:\"))\n",
    "\n",
    "ch3 = float(input(\"Nota CH3:\"))\n",
    "ch4 = float(input(\"Nota CH4:\"))\n",
    "\n",
    "gp1 = float(input(\"Nota GP2:\"))\n",
    "\n",
    "media_semestre(cp1, cp2, cp3, cp4, cp5, cp6, ch1, ch2, ch3, ch4, gp, gp1)"
   ]
  },
  {
   "cell_type": "code",
   "execution_count": null,
   "id": "a06079e3",
   "metadata": {},
   "outputs": [],
   "source": []
  },
  {
   "cell_type": "code",
   "execution_count": null,
   "id": "d0f096a4",
   "metadata": {},
   "outputs": [],
   "source": []
  },
  {
   "cell_type": "code",
   "execution_count": null,
   "id": "a9e61001",
   "metadata": {},
   "outputs": [],
   "source": []
  },
  {
   "cell_type": "code",
   "execution_count": null,
   "id": "5b19d410",
   "metadata": {},
   "outputs": [],
   "source": []
  }
 ],
 "metadata": {
  "kernelspec": {
   "display_name": "Python 3 (ipykernel)",
   "language": "python",
   "name": "python3"
  },
  "language_info": {
   "codemirror_mode": {
    "name": "ipython",
    "version": 3
   },
   "file_extension": ".py",
   "mimetype": "text/x-python",
   "name": "python",
   "nbconvert_exporter": "python",
   "pygments_lexer": "ipython3",
   "version": "3.11.4"
  }
 },
 "nbformat": 4,
 "nbformat_minor": 5
}
