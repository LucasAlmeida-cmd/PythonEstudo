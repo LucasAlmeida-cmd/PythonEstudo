{
 "cells": [
  {
   "cell_type": "code",
   "execution_count": 1,
   "id": "52b1c61c-4e52-4785-a776-aa0708faec4f",
   "metadata": {},
   "outputs": [
    {
     "name": "stdin",
     "output_type": "stream",
     "text": [
      "Digite uma nota entre 0 a 10:  11\n"
     ]
    },
    {
     "name": "stdout",
     "output_type": "stream",
     "text": [
      "Nota inválida. Por favor, digite novamente.\n"
     ]
    },
    {
     "name": "stdin",
     "output_type": "stream",
     "text": [
      "Digite uma nota entre 0 a 10:  12\n"
     ]
    },
    {
     "name": "stdout",
     "output_type": "stream",
     "text": [
      "Nota inválida. Por favor, digite novamente.\n"
     ]
    },
    {
     "name": "stdin",
     "output_type": "stream",
     "text": [
      "Digite uma nota entre 0 a 10:  -2\n"
     ]
    },
    {
     "name": "stdout",
     "output_type": "stream",
     "text": [
      "Nota inválida. Por favor, digite novamente.\n"
     ]
    },
    {
     "name": "stdin",
     "output_type": "stream",
     "text": [
      "Digite uma nota entre 0 a 10:  4\n"
     ]
    },
    {
     "name": "stdout",
     "output_type": "stream",
     "text": [
      "Valor válido!\n"
     ]
    }
   ],
   "source": [
    "#exercico 1 \n",
    "\n",
    "\n",
    "verificacao = True\n",
    "\n",
    "\n",
    "while (verificacao):\n",
    "\n",
    "    nota = float(input(\"Digite uma nota entre 0 a 10: \"))\n",
    "\n",
    "    if nota >= 0 and nota <= 10:\n",
    "        print(\"Valor válido!\")\n",
    "        verificacao = False\n",
    "    else:\n",
    "        print(\"Nota inválida. Por favor, digite novamente.\")"
   ]
  },
  {
   "cell_type": "code",
   "execution_count": 6,
   "id": "0341046b-69b8-403f-b1d9-7e25f565cedd",
   "metadata": {},
   "outputs": [
    {
     "name": "stdin",
     "output_type": "stream",
     "text": [
      "Digite seu nome:  Lucas\n",
      "Digite sua senha:  LUCAS\n"
     ]
    },
    {
     "name": "stdout",
     "output_type": "stream",
     "text": [
      "O nome e senha não podem ser iguais, por favor digite outra: \n"
     ]
    },
    {
     "name": "stdin",
     "output_type": "stream",
     "text": [
      "Digite sua senha:  lucas\n"
     ]
    },
    {
     "name": "stdout",
     "output_type": "stream",
     "text": [
      "O nome e senha não podem ser iguais, por favor digite outra: \n"
     ]
    },
    {
     "name": "stdin",
     "output_type": "stream",
     "text": [
      "Digite sua senha:  lucas2\n"
     ]
    },
    {
     "name": "stdout",
     "output_type": "stream",
     "text": [
      "Nome e senha disponivel.\n"
     ]
    }
   ],
   "source": [
    "#exercicio 2 \n",
    "\n",
    "verificacao = True\n",
    "nome_usuario = input(\"Digite seu nome: \").lower()\n",
    "while verificacao:\n",
    "\n",
    "    \n",
    "    senha_usuario = input(\"Digite sua senha: \").lower()\n",
    "\n",
    "    if nome_usuario == senha_usuario:\n",
    "        print(\"O nome e senha não podem ser iguais, por favor digite outra: \")\n",
    "    else:\n",
    "        print(\"Nome e senha disponivel.\")\n",
    "        verificacao = False"
   ]
  },
  {
   "cell_type": "code",
   "execution_count": 6,
   "id": "4e9538d9-be3a-4e07-81cf-bbd75308d677",
   "metadata": {},
   "outputs": [
    {
     "name": "stdin",
     "output_type": "stream",
     "text": [
      "Digite o seu nome:  ls\n"
     ]
    },
    {
     "name": "stdout",
     "output_type": "stream",
     "text": [
      "Nome inválido\n"
     ]
    },
    {
     "name": "stdin",
     "output_type": "stream",
     "text": [
      "Digite o seu nome:  L87\n"
     ]
    },
    {
     "name": "stdout",
     "output_type": "stream",
     "text": [
      "Nome válido\n"
     ]
    },
    {
     "name": "stdin",
     "output_type": "stream",
     "text": [
      "Digite a sua idade:  21\n"
     ]
    },
    {
     "name": "stdout",
     "output_type": "stream",
     "text": [
      "Idade válida!\n"
     ]
    },
    {
     "name": "stdin",
     "output_type": "stream",
     "text": [
      "Digite seu  salário:  1400\n"
     ]
    },
    {
     "name": "stdout",
     "output_type": "stream",
     "text": [
      "salario valido\n"
     ]
    },
    {
     "name": "stdin",
     "output_type": "stream",
     "text": [
      "Digite se você é 'F' ou 'M':  m\n"
     ]
    },
    {
     "name": "stdout",
     "output_type": "stream",
     "text": [
      "Sexo válido!\n"
     ]
    },
    {
     "name": "stdin",
     "output_type": "stream",
     "text": [
      "Digite se seu Estado Civil: ( 's', 'c', 'v', 'd') s\n"
     ]
    },
    {
     "name": "stdout",
     "output_type": "stream",
     "text": [
      "Estado Civil válido!\n"
     ]
    }
   ],
   "source": [
    "#exercicio 3\n",
    "\n",
    "validacao = True\n",
    "\n",
    "while validacao:\n",
    "\n",
    "    nome_usuario = input(\"Digite o seu nome: \")\n",
    "    if len(nome_usuario) >= 3:\n",
    "        print(\"Nome válido\")\n",
    "    else:\n",
    "        print(\"Nome inválido\")\n",
    "        continue\n",
    "        \n",
    "        \n",
    "    idade_usuario = int(input(\"Digite a sua idade: \"))\n",
    "    if idade_usuario > 0 and idade_usuario < 150:\n",
    "        print(\"Idade válida!\")\n",
    "    else:\n",
    "        print(\"Idade inválida!\")\n",
    "        continue\n",
    "\n",
    "    salario_usuario = float(input(\"Digite seu  salário: \"))\n",
    "    if salario_usuario > 0:\n",
    "        print(\"salario valido\")\n",
    "    else:\n",
    "        print(\"Salario invalido\")\n",
    "        continue\n",
    "        \n",
    "    sexo_usuario = input(\"Digite se você é 'F' ou 'M': \").lower()\n",
    "    if sexo_usuario in [\"f\", \"m\"]:\n",
    "        print(\"Sexo válido!\")\n",
    "    else:\n",
    "        print(\"Sexo inválido!\")\n",
    "        continue\n",
    "        \n",
    "    estado_civil_usuario = input(\"Digite se seu Estado Civil: ( 's', 'c', 'v', 'd')\").lower()\n",
    "    if estado_civil_usuario in [\"s\", \"c\", \"v\", \"d\"]:\n",
    "        print(\"Estado Civil válido!\")\n",
    "    else:\n",
    "        print(\"Estado Civil inválido!\")\n",
    "        continue\n",
    "\n",
    "    validacao = False\n",
    "\n",
    "\n",
    "#os continue em cada bloco de if faz com que se for else ele repita somente aquele pedaço de codigo até for\n",
    "#positivo"
   ]
  },
  {
   "cell_type": "code",
   "execution_count": 48,
   "id": "3ae739fe-46cb-4645-87be-2d9f0f1091e2",
   "metadata": {},
   "outputs": [
    {
     "name": "stdout",
     "output_type": "stream",
     "text": [
      "63\n"
     ]
    }
   ],
   "source": [
    "#exercicio 4 \n",
    "\n",
    "cidade_a = 80000\n",
    "cidade_b = 200000\n",
    "\n",
    "taxa_crescimento_a = 1.03\n",
    "taxa_crescimento_b = 1.015\n",
    "\n",
    "anos_necessarios = 0\n",
    "\n",
    "validacao = True\n",
    "\n",
    "while validacao:\n",
    "\n",
    "    cidade_a *= taxa_crescimento_a\n",
    "    cidade_b *= taxa_crescimento_b\n",
    "    anos_necessarios += 1\n",
    "    \n",
    "    if cidade_a >= cidade_b:\n",
    "        validacao = False\n",
    "    \n",
    "\n",
    "print(anos_necessarios)"
   ]
  },
  {
   "cell_type": "code",
   "execution_count": 49,
   "id": "ed29f600-e81f-4307-834b-4a2fdaac92a7",
   "metadata": {},
   "outputs": [
    {
     "name": "stdin",
     "output_type": "stream",
     "text": [
      "Informe a quantidade de pessoas da cidade A: 1000\n",
      "Informe a quantidade de pessoas da cidade B: 4000\n",
      "Informe a taxa de crescimento da cidade A: 3\n",
      "Informe a taxa de crescimento da cidade B: 2\n"
     ]
    },
    {
     "name": "stdout",
     "output_type": "stream",
     "text": [
      "4\n"
     ]
    }
   ],
   "source": [
    "#exercicio 5 \n",
    "\n",
    "cidade_a = float(input(\"Informe a quantidade de pessoas da cidade A:\"))\n",
    "cidade_b = float(input(\"Informe a quantidade de pessoas da cidade B:\"))\n",
    "\n",
    "taxa_crescimento_a = float(input(\"Informe a taxa de crescimento da cidade A:\"))\n",
    "taxa_crescimento_b = float(input(\"Informe a taxa de crescimento da cidade B:\"))\n",
    "\n",
    "anos_necessarios = 0\n",
    "\n",
    "validacao = True\n",
    "\n",
    "while validacao:\n",
    "\n",
    "    cidade_a *= taxa_crescimento_a\n",
    "    cidade_b *= taxa_crescimento_b\n",
    "    anos_necessarios += 1\n",
    "    \n",
    "    if cidade_a >= cidade_b:\n",
    "        validacao = False\n",
    "    \n",
    "\n",
    "print(anos_necessarios)\n"
   ]
  },
  {
   "cell_type": "code",
   "execution_count": null,
   "id": "2932dd9a-209d-4085-a033-cfb7aae1922c",
   "metadata": {},
   "outputs": [],
   "source": []
  },
  {
   "cell_type": "code",
   "execution_count": null,
   "id": "8f205c4f-83e1-4063-a4e7-d6428a55197a",
   "metadata": {},
   "outputs": [],
   "source": []
  }
 ],
 "metadata": {
  "kernelspec": {
   "display_name": "Python 3 (ipykernel)",
   "language": "python",
   "name": "python3"
  },
  "language_info": {
   "codemirror_mode": {
    "name": "ipython",
    "version": 3
   },
   "file_extension": ".py",
   "mimetype": "text/x-python",
   "name": "python",
   "nbconvert_exporter": "python",
   "pygments_lexer": "ipython3",
   "version": "3.9.13"
  }
 },
 "nbformat": 4,
 "nbformat_minor": 5
}
